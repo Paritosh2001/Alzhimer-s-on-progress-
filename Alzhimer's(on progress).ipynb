{
 "cells": [
  {
   "cell_type": "code",
   "execution_count": 1,
   "metadata": {},
   "outputs": [
    {
     "name": "stderr",
     "output_type": "stream",
     "text": [
      "Using TensorFlow backend.\n"
     ]
    }
   ],
   "source": [
    "from keras.layers import Input, Dense, Dropout, Activation, BatchNormalization, Flatten, Conv2D, MaxPooling2D\n",
    "from keras.models import Sequential\n",
    "from keras.utils import plot_model\n",
    "from keras.preprocessing.image import ImageDataGenerator"
   ]
  },
  {
   "cell_type": "code",
   "execution_count": 2,
   "metadata": {},
   "outputs": [],
   "source": [
    "test_dir=\"C:/DATASET/archive (4)/Alzheimer_s Dataset/test\"\n",
    "train_dir=\"C:/DATASET/archive (4)/Alzheimer_s Dataset/train\""
   ]
  },
  {
   "cell_type": "code",
   "execution_count": 3,
   "metadata": {},
   "outputs": [],
   "source": [
    "data_generator = ImageDataGenerator(rescale = 1.0/255.0,validation_split = 0.1)"
   ]
  },
  {
   "cell_type": "code",
   "execution_count": 4,
   "metadata": {},
   "outputs": [
    {
     "name": "stdout",
     "output_type": "stream",
     "text": [
      "Found 4610 images belonging to 4 classes.\n",
      "Found 1279 images belonging to 4 classes.\n",
      "Found 511 images belonging to 4 classes.\n"
     ]
    }
   ],
   "source": [
    "traindata = data_generator.flow_from_directory(directory=train_dir, target_size=(100, 100), batch_size=64, class_mode='categorical', shuffle = True, subset = 'training')\n",
    "testdata = data_generator.flow_from_directory(directory=test_dir, target_size=(100, 100), batch_size=64, class_mode=None, shuffle = True)\n",
    "validdata = data_generator.flow_from_directory(directory = train_dir,target_size = (100, 100),batch_size = 64,class_mode = 'categorical', shuffle = True, subset = 'validation')"
   ]
  },
  {
   "cell_type": "code",
   "execution_count": 5,
   "metadata": {},
   "outputs": [],
   "source": [
    "vgg_16_model=Sequential()\n",
    "\n",
    "vgg_16_model.add(Conv2D(filters=64, kernel_size=(3,3), strides=(1,1), activation='relu', padding='same', input_shape=(100,100,3)))\n",
    "vgg_16_model.add(BatchNormalization(momentum = 0.9))\n",
    "vgg_16_model.add(Conv2D(filters=64, kernel_size=(3,3), strides=(1,1), activation='relu', padding='same'))\n",
    "vgg_16_model.add(BatchNormalization(momentum = 0.9))\n",
    "vgg_16_model.add(MaxPooling2D(pool_size=(2,2),strides=(2,2)))\n",
    "\n",
    "vgg_16_model.add(Conv2D(filters=128, kernel_size=(3,3), strides=(1,1), activation='relu', padding='same'))\n",
    "vgg_16_model.add(BatchNormalization(momentum = 0.9))\n",
    "vgg_16_model.add(Conv2D(filters=128, kernel_size=(3,3), strides=(1,1), activation='relu', padding='same'))\n",
    "vgg_16_model.add(BatchNormalization(momentum = 0.9))\n",
    "vgg_16_model.add(MaxPooling2D(pool_size=(2,2),strides=(2,2)))\n",
    "\n",
    "vgg_16_model.add(Conv2D(filters=256, kernel_size=(3,3), strides=(1,1), activation='relu', padding='same'))\n",
    "vgg_16_model.add(BatchNormalization(momentum = 0.9))\n",
    "vgg_16_model.add(Conv2D(filters=256, kernel_size=(3,3), strides=(1,1), activation='relu', padding='same'))\n",
    "vgg_16_model.add(BatchNormalization(momentum = 0.9))\n",
    "vgg_16_model.add(Conv2D(filters=256, kernel_size=(3,3), strides=(1,1), activation='relu', padding='same'))\n",
    "vgg_16_model.add(BatchNormalization(momentum = 0.9))\n",
    "vgg_16_model.add(MaxPooling2D(pool_size=(2,2),strides=(2,2)))\n",
    "\n",
    "vgg_16_model.add(Conv2D(filters=512, kernel_size=(3,3), strides=(1,1), activation='relu', padding='same'))\n",
    "vgg_16_model.add(BatchNormalization(momentum = 0.9))\n",
    "vgg_16_model.add(Conv2D(filters=512, kernel_size=(3,3), strides=(1,1), activation='relu', padding='same'))\n",
    "vgg_16_model.add(BatchNormalization(momentum = 0.9))\n",
    "vgg_16_model.add(Conv2D(filters=512, kernel_size=(3,3), strides=(1,1), activation='relu', padding='same'))\n",
    "vgg_16_model.add(BatchNormalization(momentum = 0.9))\n",
    "vgg_16_model.add(MaxPooling2D(pool_size=(2,2),strides=(2,2)))\n",
    "\n",
    "vgg_16_model.add(Conv2D(filters=512, kernel_size=(3,3), strides=(1,1), activation='relu', padding='same'))\n",
    "vgg_16_model.add(BatchNormalization(momentum = 0.9))\n",
    "vgg_16_model.add(Conv2D(filters=512, kernel_size=(3,3), strides=(1,1), activation='relu', padding='same'))\n",
    "vgg_16_model.add(BatchNormalization(momentum = 0.9))\n",
    "vgg_16_model.add(Conv2D(filters=512, kernel_size=(3,3), strides=(1,1), activation='relu', padding='same'))\n",
    "vgg_16_model.add(BatchNormalization(momentum = 0.9))\n",
    "vgg_16_model.add(MaxPooling2D(pool_size=(2,2),strides=(2,2)))\n",
    "\n",
    "vgg_16_model.add(Flatten())\n",
    "vgg_16_model.add(Dense(512, activation='relu'))\n",
    "vgg_16_model.add(Dense(256, activation='relu'))\n",
    "vgg_16_model.add(Dense(4, activation='softmax'))"
   ]
  },
  {
   "cell_type": "code",
   "execution_count": 6,
   "metadata": {},
   "outputs": [
    {
     "name": "stdout",
     "output_type": "stream",
     "text": [
      "Model: \"sequential_1\"\n",
      "_________________________________________________________________\n",
      "Layer (type)                 Output Shape              Param #   \n",
      "=================================================================\n",
      "conv2d_1 (Conv2D)            (None, 100, 100, 64)      1792      \n",
      "_________________________________________________________________\n",
      "batch_normalization_1 (Batch (None, 100, 100, 64)      256       \n",
      "_________________________________________________________________\n",
      "conv2d_2 (Conv2D)            (None, 100, 100, 64)      36928     \n",
      "_________________________________________________________________\n",
      "batch_normalization_2 (Batch (None, 100, 100, 64)      256       \n",
      "_________________________________________________________________\n",
      "max_pooling2d_1 (MaxPooling2 (None, 50, 50, 64)        0         \n",
      "_________________________________________________________________\n",
      "conv2d_3 (Conv2D)            (None, 50, 50, 128)       73856     \n",
      "_________________________________________________________________\n",
      "batch_normalization_3 (Batch (None, 50, 50, 128)       512       \n",
      "_________________________________________________________________\n",
      "conv2d_4 (Conv2D)            (None, 50, 50, 128)       147584    \n",
      "_________________________________________________________________\n",
      "batch_normalization_4 (Batch (None, 50, 50, 128)       512       \n",
      "_________________________________________________________________\n",
      "max_pooling2d_2 (MaxPooling2 (None, 25, 25, 128)       0         \n",
      "_________________________________________________________________\n",
      "conv2d_5 (Conv2D)            (None, 25, 25, 256)       295168    \n",
      "_________________________________________________________________\n",
      "batch_normalization_5 (Batch (None, 25, 25, 256)       1024      \n",
      "_________________________________________________________________\n",
      "conv2d_6 (Conv2D)            (None, 25, 25, 256)       590080    \n",
      "_________________________________________________________________\n",
      "batch_normalization_6 (Batch (None, 25, 25, 256)       1024      \n",
      "_________________________________________________________________\n",
      "conv2d_7 (Conv2D)            (None, 25, 25, 256)       590080    \n",
      "_________________________________________________________________\n",
      "batch_normalization_7 (Batch (None, 25, 25, 256)       1024      \n",
      "_________________________________________________________________\n",
      "max_pooling2d_3 (MaxPooling2 (None, 12, 12, 256)       0         \n",
      "_________________________________________________________________\n",
      "conv2d_8 (Conv2D)            (None, 12, 12, 512)       1180160   \n",
      "_________________________________________________________________\n",
      "batch_normalization_8 (Batch (None, 12, 12, 512)       2048      \n",
      "_________________________________________________________________\n",
      "conv2d_9 (Conv2D)            (None, 12, 12, 512)       2359808   \n",
      "_________________________________________________________________\n",
      "batch_normalization_9 (Batch (None, 12, 12, 512)       2048      \n",
      "_________________________________________________________________\n",
      "conv2d_10 (Conv2D)           (None, 12, 12, 512)       2359808   \n",
      "_________________________________________________________________\n",
      "batch_normalization_10 (Batc (None, 12, 12, 512)       2048      \n",
      "_________________________________________________________________\n",
      "max_pooling2d_4 (MaxPooling2 (None, 6, 6, 512)         0         \n",
      "_________________________________________________________________\n",
      "conv2d_11 (Conv2D)           (None, 6, 6, 512)         2359808   \n",
      "_________________________________________________________________\n",
      "batch_normalization_11 (Batc (None, 6, 6, 512)         2048      \n",
      "_________________________________________________________________\n",
      "conv2d_12 (Conv2D)           (None, 6, 6, 512)         2359808   \n",
      "_________________________________________________________________\n",
      "batch_normalization_12 (Batc (None, 6, 6, 512)         2048      \n",
      "_________________________________________________________________\n",
      "conv2d_13 (Conv2D)           (None, 6, 6, 512)         2359808   \n",
      "_________________________________________________________________\n",
      "batch_normalization_13 (Batc (None, 6, 6, 512)         2048      \n",
      "_________________________________________________________________\n",
      "max_pooling2d_5 (MaxPooling2 (None, 3, 3, 512)         0         \n",
      "_________________________________________________________________\n",
      "flatten_1 (Flatten)          (None, 4608)              0         \n",
      "_________________________________________________________________\n",
      "dense_1 (Dense)              (None, 512)               2359808   \n",
      "_________________________________________________________________\n",
      "dense_2 (Dense)              (None, 256)               131328    \n",
      "_________________________________________________________________\n",
      "dense_3 (Dense)              (None, 4)                 1028      \n",
      "=================================================================\n",
      "Total params: 17,223,748\n",
      "Trainable params: 17,215,300\n",
      "Non-trainable params: 8,448\n",
      "_________________________________________________________________\n"
     ]
    }
   ],
   "source": [
    "vgg_16_model.summary()"
   ]
  },
  {
   "cell_type": "code",
   "execution_count": 7,
   "metadata": {},
   "outputs": [],
   "source": [
    "vgg_16_model.compile(loss='categorical_crossentropy', optimizer='adam', metrics=['accuracy'])"
   ]
  },
  {
   "cell_type": "code",
   "execution_count": 8,
   "metadata": {},
   "outputs": [
    {
     "name": "stdout",
     "output_type": "stream",
     "text": [
      "Epoch 1/30\n",
      "20/20 [==============================] - 30s 1s/step - loss: 3.3750 - accuracy: 0.4359 - val_loss: 4.8353 - val_accuracy: 0.5010\n",
      "Epoch 2/30\n",
      "20/20 [==============================] - 21s 1s/step - loss: 1.1412 - accuracy: 0.4581 - val_loss: 5.0505 - val_accuracy: 0.5010\n",
      "Epoch 3/30\n",
      "20/20 [==============================] - 20s 1s/step - loss: 0.9707 - accuracy: 0.5156 - val_loss: 0.9285 - val_accuracy: 0.5342\n",
      "Epoch 4/30\n",
      "20/20 [==============================] - 21s 1s/step - loss: 0.9012 - accuracy: 0.5344 - val_loss: 0.8218 - val_accuracy: 0.5264\n",
      "Epoch 5/30\n",
      "20/20 [==============================] - 20s 1s/step - loss: 0.8846 - accuracy: 0.5773 - val_loss: 6.6069 - val_accuracy: 0.5147\n",
      "Epoch 6/30\n",
      "20/20 [==============================] - 20s 1s/step - loss: 0.9390 - accuracy: 0.5115 - val_loss: 1.1048 - val_accuracy: 0.5460\n",
      "Epoch 7/30\n",
      "20/20 [==============================] - 21s 1s/step - loss: 0.9023 - accuracy: 0.5367 - val_loss: 0.9773 - val_accuracy: 0.5695\n",
      "Epoch 8/30\n",
      "20/20 [==============================] - 21s 1s/step - loss: 0.8252 - accuracy: 0.5969 - val_loss: 1.1553 - val_accuracy: 0.3523\n",
      "Epoch 9/30\n",
      "20/20 [==============================] - 21s 1s/step - loss: 0.8075 - accuracy: 0.6141 - val_loss: 2.1742 - val_accuracy: 0.5088\n",
      "Epoch 10/30\n",
      "20/20 [==============================] - 21s 1s/step - loss: 0.8541 - accuracy: 0.5914 - val_loss: 1.1685 - val_accuracy: 0.5890\n",
      "Epoch 11/30\n",
      "20/20 [==============================] - 20s 1s/step - loss: 0.8295 - accuracy: 0.6182 - val_loss: 1.3030 - val_accuracy: 0.2387\n",
      "Epoch 12/30\n",
      "20/20 [==============================] - 22s 1s/step - loss: 0.8710 - accuracy: 0.5836 - val_loss: 0.7752 - val_accuracy: 0.5558\n",
      "Epoch 13/30\n",
      "20/20 [==============================] - 21s 1s/step - loss: 0.9207 - accuracy: 0.5829 - val_loss: 0.9258 - val_accuracy: 0.5362\n",
      "Epoch 14/30\n",
      "20/20 [==============================] - 22s 1s/step - loss: 0.7839 - accuracy: 0.6422 - val_loss: 0.8153 - val_accuracy: 0.5890\n",
      "Epoch 15/30\n",
      "20/20 [==============================] - 21s 1s/step - loss: 0.8570 - accuracy: 0.6125 - val_loss: 1.2682 - val_accuracy: 0.5597\n",
      "Epoch 16/30\n",
      "20/20 [==============================] - 22s 1s/step - loss: 0.7682 - accuracy: 0.6281 - val_loss: 1.0747 - val_accuracy: 0.5558\n",
      "Epoch 17/30\n",
      "20/20 [==============================] - 22s 1s/step - loss: 0.7344 - accuracy: 0.6789 - val_loss: 0.8416 - val_accuracy: 0.6360\n",
      "Epoch 18/30\n",
      "20/20 [==============================] - 20s 1s/step - loss: 0.8722 - accuracy: 0.6133 - val_loss: 0.9764 - val_accuracy: 0.5303\n",
      "Epoch 19/30\n",
      "20/20 [==============================] - 21s 1s/step - loss: 0.7891 - accuracy: 0.6383 - val_loss: 1.1437 - val_accuracy: 0.6517\n",
      "Epoch 20/30\n",
      "20/20 [==============================] - 22s 1s/step - loss: 0.7330 - accuracy: 0.6724 - val_loss: 1.1707 - val_accuracy: 0.5538\n",
      "Epoch 21/30\n",
      "20/20 [==============================] - 22s 1s/step - loss: 0.7610 - accuracy: 0.6508 - val_loss: 1.7444 - val_accuracy: 0.4188\n",
      "Epoch 22/30\n",
      "20/20 [==============================] - 21s 1s/step - loss: 0.6693 - accuracy: 0.6891 - val_loss: 0.6710 - val_accuracy: 0.6536\n",
      "Epoch 23/30\n",
      "20/20 [==============================] - 20s 1s/step - loss: 0.6358 - accuracy: 0.7266 - val_loss: 1.5855 - val_accuracy: 0.4149\n",
      "Epoch 24/30\n",
      "20/20 [==============================] - 21s 1s/step - loss: 0.6390 - accuracy: 0.7148 - val_loss: 2.0780 - val_accuracy: 0.1879\n",
      "Epoch 25/30\n",
      "20/20 [==============================] - 21s 1s/step - loss: 0.6079 - accuracy: 0.7422 - val_loss: 1.0409 - val_accuracy: 0.6106\n",
      "Epoch 26/30\n",
      "20/20 [==============================] - 21s 1s/step - loss: 0.6898 - accuracy: 0.6812 - val_loss: 0.7342 - val_accuracy: 0.6654\n",
      "Epoch 27/30\n",
      "20/20 [==============================] - 21s 1s/step - loss: 0.5204 - accuracy: 0.7891 - val_loss: 0.6508 - val_accuracy: 0.6595\n",
      "Epoch 28/30\n",
      "20/20 [==============================] - 21s 1s/step - loss: 0.5168 - accuracy: 0.7891 - val_loss: 0.7182 - val_accuracy: 0.7319\n",
      "Epoch 29/30\n",
      "20/20 [==============================] - 20s 1s/step - loss: 0.5104 - accuracy: 0.7865 - val_loss: 1.0572 - val_accuracy: 0.5910\n",
      "Epoch 30/30\n",
      "20/20 [==============================] - 21s 1s/step - loss: 0.5145 - accuracy: 0.7828 - val_loss: 0.7086 - val_accuracy: 0.6986\n"
     ]
    },
    {
     "data": {
      "text/plain": [
       "<keras.callbacks.callbacks.History at 0x1c5faa5ea08>"
      ]
     },
     "execution_count": 8,
     "metadata": {},
     "output_type": "execute_result"
    }
   ],
   "source": [
    "vgg_16_model.fit_generator(generator = traindata, steps_per_epoch = 20, validation_data = validdata,validation_steps = 128, epochs = 30)\n"
   ]
  },
  {
   "cell_type": "code",
   "execution_count": 9,
   "metadata": {},
   "outputs": [
    {
     "data": {
      "image/png": "[encoded data removed]",
      "text/plain": [
       "<Figure size 432x288 with 1 Axes>"
      ]
     },
     "metadata": {
      "needs_background": "light"
     },
     "output_type": "display_data"
    },
    {
     "data": {
      "image/png": "[encoded data removed]",
      "text/plain": [
       "<Figure size 432x288 with 1 Axes>"
      ]
     },
     "metadata": {
      "needs_background": "light"
     },
     "output_type": "display_data"
    }
   ],
   "source": [
    "import matplotlib.pyplot as plt\n",
    "plt.plot(vgg_16_model.history.history['accuracy'])\n",
    "plt.plot(vgg_16_model.history.history['val_accuracy'])\n",
    "plt.title('model accuracy')\n",
    "plt.ylabel('accuracy')\n",
    "plt.xlabel('epoch')\n",
    "plt.show()\n",
    "\n",
    "plt.plot(vgg_16_model.history.history['loss'])\n",
    "plt.plot(vgg_16_model.history.history['val_loss'])\n",
    "plt.title('model loss')\n",
    "plt.ylabel('loss')\n",
    "plt.xlabel('epoch')\n",
    "plt.show()"
   ]
  },
  {
   "cell_type": "code",
   "execution_count": null,
   "metadata": {},
   "outputs": [],
   "source": []
  }
 ],
 "metadata": {
  "kernelspec": {
   "display_name": "Python 3",
   "language": "python",
   "name": "python3"
  },
  "language_info": {
   "codemirror_mode": {
    "name": "ipython",
    "version": 3
   },
   "file_extension": ".py",
   "mimetype": "text/x-python",
   "name": "python",
   "nbconvert_exporter": "python",
   "pygments_lexer": "ipython3",
   "version": "3.8.3"
  }
 },
 "nbformat": 4,
 "nbformat_minor": 4
}
